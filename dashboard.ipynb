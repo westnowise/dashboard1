{
 "cells": [
  {
   "cell_type": "code",
   "execution_count": 6,
   "id": "cc333c57",
   "metadata": {},
   "outputs": [
    {
     "data": {
      "text/html": [
       "\n",
       "        <iframe\n",
       "            width=\"100%\"\n",
       "            height=\"650\"\n",
       "            src=\"http://127.0.0.1:8050/\"\n",
       "            frameborder=\"0\"\n",
       "            allowfullscreen\n",
       "            \n",
       "        ></iframe>\n",
       "        "
      ],
      "text/plain": [
       "<IPython.lib.display.IFrame at 0x1b2a97313d0>"
      ]
     },
     "metadata": {},
     "output_type": "display_data"
    }
   ],
   "source": [
    "#!/usr/bin/env python\n",
    "# coding: utf-8\n",
    "\n",
    "# In[8]:\n",
    "\n",
    "import dash\n",
    "from dash import dcc, html\n",
    "import plotly.express as px\n",
    "import numpy as np\n",
    "\n",
    "# Sample data\n",
    "df = px.data.gapminder().query(\"country=='Canada'\")\n",
    "\n",
    "# Create the Dash app\n",
    "app = dash.Dash(__name__)\n",
    "\n",
    "# Define layout\n",
    "app.layout = html.Div([\n",
    "    html.H1(\"Dash Plotly Dashboard\"),\n",
    "    \n",
    "    html.Button(\"Generate Plots\", id=\"generate-button\", n_clicks=0),\n",
    "    \n",
    "    html.Div([\n",
    "        dcc.Graph(id='bar-plot', style={'display': 'inline-block', 'width': '33%'}),\n",
    "        dcc.Graph(id='pie-chart', style={'display': 'inline-block', 'width': '33%'}),\n",
    "        dcc.Graph(id='scatter-plot', style={'display': 'inline-block', 'width': '33%'}),\n",
    "    ]),\n",
    "])\n",
    "\n",
    "# Define callbacks to update plots\n",
    "@app.callback(\n",
    "    dash.dependencies.Output('bar-plot', 'figure'),\n",
    "    dash.dependencies.Output('pie-chart', 'figure'),\n",
    "    dash.dependencies.Output('scatter-plot', 'figure'),\n",
    "    [dash.dependencies.Input('generate-button', 'n_clicks')]\n",
    ")\n",
    "def update_graphs(n_clicks):\n",
    "    # Bar plot\n",
    "    fig_bar = px.bar(df, x=\"year\", y=\"lifeExp\", title='Life expectancy in Canada')\n",
    "\n",
    "    # Pie chart\n",
    "    fig_pie = px.pie(names=df['year'], values=df['lifeExp'], title='Pie Chart')\n",
    "    \n",
    "    # Scatter plot\n",
    "    fig_scatter = px.scatter(x=df['year'], y=df['lifeExp'], title='Scatter Plot')\n",
    "    \n",
    "    return fig_bar, fig_pie, fig_scatter\n",
    "\n",
    "# Run the app locally\n",
    "if __name__ == '__main__':\n",
    "    app.run_server(debug=True)\n",
    "#     app.run_server(host='127.0.0.1', port=8050)  # http://127.0.0.1:8050/\n",
    "#     app.run_server(debug=True, port=8051)\n"
   ]
  },
  {
   "cell_type": "code",
   "execution_count": null,
   "id": "5a332947",
   "metadata": {},
   "outputs": [],
   "source": []
  }
 ],
 "metadata": {
  "kernelspec": {
   "display_name": "Python 3 (ipykernel)",
   "language": "python",
   "name": "python3"
  },
  "language_info": {
   "codemirror_mode": {
    "name": "ipython",
    "version": 3
   },
   "file_extension": ".py",
   "mimetype": "text/x-python",
   "name": "python",
   "nbconvert_exporter": "python",
   "pygments_lexer": "ipython3",
   "version": "3.11.5"
  }
 },
 "nbformat": 4,
 "nbformat_minor": 5
}
